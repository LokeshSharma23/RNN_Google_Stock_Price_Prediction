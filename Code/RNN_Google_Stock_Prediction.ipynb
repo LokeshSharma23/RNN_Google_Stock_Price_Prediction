{
 "cells": [
  {
   "cell_type": "markdown",
   "metadata": {},
   "source": [
    "# Predicting Google Stock Price Trends using Recurrent Neural Network"
   ]
  },
  {
   "cell_type": "markdown",
   "metadata": {},
   "source": [
    "Data Preprocessing"
   ]
  },
  {
   "cell_type": "markdown",
   "metadata": {},
   "source": [
    "Importing Libraries"
   ]
  },
  {
   "cell_type": "code",
   "execution_count": 1,
   "metadata": {},
   "outputs": [],
   "source": [
    "import numpy as np\n",
    "import matplotlib.pyplot as plt\n",
    "import pandas as pd\n"
   ]
  },
  {
   "cell_type": "code",
   "execution_count": 2,
   "metadata": {},
   "outputs": [],
   "source": [
    "import os"
   ]
  },
  {
   "cell_type": "code",
   "execution_count": 3,
   "metadata": {},
   "outputs": [],
   "source": [
    "os.chdir('H:\\Machine Learning A-Z\\Recurrent_Neural_Networks')"
   ]
  },
  {
   "cell_type": "markdown",
   "metadata": {},
   "source": [
    "Importing Training Dataset"
   ]
  },
  {
   "cell_type": "code",
   "execution_count": 4,
   "metadata": {},
   "outputs": [],
   "source": [
    "data = pd.read_csv('Google_Stock_Price_Train.csv')\n",
    "training = data.iloc[:, 1:2].values"
   ]
  },
  {
   "cell_type": "markdown",
   "metadata": {},
   "source": [
    "Feature Scaling using Normalization"
   ]
  },
  {
   "cell_type": "code",
   "execution_count": 5,
   "metadata": {},
   "outputs": [],
   "source": [
    "from sklearn.preprocessing import MinMaxScaler"
   ]
  },
  {
   "cell_type": "code",
   "execution_count": 6,
   "metadata": {},
   "outputs": [],
   "source": [
    "sc = MinMaxScaler(feature_range = (0, 1))"
   ]
  },
  {
   "cell_type": "code",
   "execution_count": 7,
   "metadata": {},
   "outputs": [],
   "source": [
    "training_scaled = sc.fit_transform(training)"
   ]
  },
  {
   "cell_type": "raw",
   "metadata": {},
   "source": [
    "Creating Datastructure with 100 timestamps and 1 output"
   ]
  },
  {
   "cell_type": "code",
   "execution_count": 8,
   "metadata": {},
   "outputs": [],
   "source": [
    "X_train = []\n",
    "y_train = []"
   ]
  },
  {
   "cell_type": "code",
   "execution_count": 10,
   "metadata": {},
   "outputs": [],
   "source": [
    "for i in range(100, 1258):\n",
    "    X_train.append(training_scaled[i-100:i, 0])\n",
    "    y_train.append(training_scaled[i, 0])"
   ]
  },
  {
   "cell_type": "code",
   "execution_count": 11,
   "metadata": {},
   "outputs": [],
   "source": [
    "X_train, y_train = np.array(X_train), np.array(y_train)"
   ]
  },
  {
   "cell_type": "markdown",
   "metadata": {},
   "source": [
    "Reshaping the array"
   ]
  },
  {
   "cell_type": "code",
   "execution_count": 12,
   "metadata": {},
   "outputs": [],
   "source": [
    "X_train = np.reshape(X_train, (X_train.shape[0], X_train.shape[1], 1))"
   ]
  },
  {
   "cell_type": "markdown",
   "metadata": {},
   "source": [
    "# Building RNN model"
   ]
  },
  {
   "cell_type": "markdown",
   "metadata": {},
   "source": [
    "Importing Keras Libraries and packages"
   ]
  },
  {
   "cell_type": "code",
   "execution_count": 13,
   "metadata": {},
   "outputs": [
    {
     "name": "stderr",
     "output_type": "stream",
     "text": [
      "Using TensorFlow backend.\n"
     ]
    }
   ],
   "source": [
    "from keras.models import Sequential\n",
    "from keras.layers import Dense\n",
    "from keras.layers import LSTM\n",
    "from keras.layers import Dropout"
   ]
  },
  {
   "cell_type": "markdown",
   "metadata": {},
   "source": [
    "Initializing the RNN"
   ]
  },
  {
   "cell_type": "code",
   "execution_count": 14,
   "metadata": {},
   "outputs": [],
   "source": [
    "model = Sequential()"
   ]
  },
  {
   "cell_type": "markdown",
   "metadata": {},
   "source": [
    "Adding 1st LSTM layer and Dropout Regularisation"
   ]
  },
  {
   "cell_type": "code",
   "execution_count": 16,
   "metadata": {},
   "outputs": [
    {
     "name": "stdout",
     "output_type": "stream",
     "text": [
      "WARNING:tensorflow:From C:\\Users\\Hitesh\\Anaconda3\\envs\\tensorflow\\lib\\site-packages\\keras\\backend\\tensorflow_backend.py:1238: calling reduce_sum (from tensorflow.python.ops.math_ops) with keep_dims is deprecated and will be removed in a future version.\n",
      "Instructions for updating:\n",
      "keep_dims is deprecated, use keepdims instead\n"
     ]
    }
   ],
   "source": [
    "model.add(LSTM(units = 50, return_sequences = True, input_shape = (X_train.shape[1], 1)))\n",
    "model.add(Dropout(0.2))"
   ]
  },
  {
   "cell_type": "markdown",
   "metadata": {},
   "source": [
    "Adding 2nd LSTM layer and Dropout Regularisation"
   ]
  },
  {
   "cell_type": "code",
   "execution_count": 17,
   "metadata": {},
   "outputs": [],
   "source": [
    "model.add(LSTM(units = 50, return_sequences = True))\n",
    "model.add(Dropout(0.2))"
   ]
  },
  {
   "cell_type": "markdown",
   "metadata": {},
   "source": [
    "Adding 3rd LSTM layer and Dropout Regularisation"
   ]
  },
  {
   "cell_type": "code",
   "execution_count": 18,
   "metadata": {},
   "outputs": [],
   "source": [
    "model.add(LSTM(units = 50, return_sequences = True))\n",
    "model.add(Dropout(0.2))"
   ]
  },
  {
   "cell_type": "markdown",
   "metadata": {},
   "source": [
    "Adding 4th LSTM layer and Dropout Regularisation"
   ]
  },
  {
   "cell_type": "code",
   "execution_count": 19,
   "metadata": {},
   "outputs": [],
   "source": [
    "model.add(LSTM(units = 50))\n",
    "model.add(Dropout(0.2))"
   ]
  },
  {
   "cell_type": "markdown",
   "metadata": {},
   "source": [
    "Adding Final Output layer"
   ]
  },
  {
   "cell_type": "code",
   "execution_count": 20,
   "metadata": {},
   "outputs": [],
   "source": [
    "model.add(Dense(units = 1))"
   ]
  },
  {
   "cell_type": "markdown",
   "metadata": {},
   "source": [
    "Compiling the RNN"
   ]
  },
  {
   "cell_type": "code",
   "execution_count": 21,
   "metadata": {
    "scrolled": true
   },
   "outputs": [
    {
     "name": "stdout",
     "output_type": "stream",
     "text": [
      "WARNING:tensorflow:From C:\\Users\\Hitesh\\Anaconda3\\envs\\tensorflow\\lib\\site-packages\\keras\\backend\\tensorflow_backend.py:1340: calling reduce_mean (from tensorflow.python.ops.math_ops) with keep_dims is deprecated and will be removed in a future version.\n",
      "Instructions for updating:\n",
      "keep_dims is deprecated, use keepdims instead\n"
     ]
    }
   ],
   "source": [
    "model.compile(optimizer = 'adam', loss = 'mean_squared_error')"
   ]
  },
  {
   "cell_type": "markdown",
   "metadata": {},
   "source": [
    "Fitting model to the training dataset"
   ]
  },
  {
   "cell_type": "code",
   "execution_count": 22,
   "metadata": {},
   "outputs": [
    {
     "name": "stdout",
     "output_type": "stream",
     "text": [
      "Epoch 1/80\n",
      "1158/1158 [==============================] - 29s 25ms/step - loss: 0.0615\n",
      "Epoch 2/80\n",
      "1158/1158 [==============================] - 11s 10ms/step - loss: 0.0063\n",
      "Epoch 3/80\n",
      "1158/1158 [==============================] - 12s 10ms/step - loss: 0.0058\n",
      "Epoch 4/80\n",
      "1158/1158 [==============================] - 11s 10ms/step - loss: 0.0051\n",
      "Epoch 5/80\n",
      "1158/1158 [==============================] - 12s 10ms/step - loss: 0.0053\n",
      "Epoch 6/80\n",
      "1158/1158 [==============================] - 12s 11ms/step - loss: 0.0043\n",
      "Epoch 7/80\n",
      "1158/1158 [==============================] - 12s 11ms/step - loss: 0.0046\n",
      "Epoch 8/80\n",
      "1158/1158 [==============================] - 13s 11ms/step - loss: 0.0043\n",
      "Epoch 9/80\n",
      "1158/1158 [==============================] - 14s 12ms/step - loss: 0.0039\n",
      "Epoch 10/80\n",
      "1158/1158 [==============================] - 14s 12ms/step - loss: 0.0041\n",
      "Epoch 11/80\n",
      "1158/1158 [==============================] - 14s 12ms/step - loss: 0.0039\n",
      "Epoch 12/80\n",
      "1158/1158 [==============================] - 15s 13ms/step - loss: 0.0038\n",
      "Epoch 13/80\n",
      "1158/1158 [==============================] - 15s 13ms/step - loss: 0.0040\n",
      "Epoch 14/80\n",
      "1158/1158 [==============================] - 15s 13ms/step - loss: 0.0047\n",
      "Epoch 15/80\n",
      "1158/1158 [==============================] - 14s 12ms/step - loss: 0.0038\n",
      "Epoch 16/80\n",
      "1158/1158 [==============================] - 15s 13ms/step - loss: 0.0040\n",
      "Epoch 17/80\n",
      "1158/1158 [==============================] - 15s 13ms/step - loss: 0.0049\n",
      "Epoch 18/80\n",
      "1158/1158 [==============================] - 16s 14ms/step - loss: 0.0036\n",
      "Epoch 19/80\n",
      "1158/1158 [==============================] - 15s 13ms/step - loss: 0.0037\n",
      "Epoch 20/80\n",
      "1158/1158 [==============================] - 15s 13ms/step - loss: 0.0035\n",
      "Epoch 21/80\n",
      "1158/1158 [==============================] - 16s 14ms/step - loss: 0.0035\n",
      "Epoch 22/80\n",
      "1158/1158 [==============================] - 16s 14ms/step - loss: 0.0034\n",
      "Epoch 23/80\n",
      "1158/1158 [==============================] - 16s 14ms/step - loss: 0.0034\n",
      "Epoch 24/80\n",
      "1158/1158 [==============================] - 16s 14ms/step - loss: 0.0033\n",
      "Epoch 25/80\n",
      "1158/1158 [==============================] - 15s 13ms/step - loss: 0.0034\n",
      "Epoch 26/80\n",
      "1158/1158 [==============================] - 16s 14ms/step - loss: 0.0031\n",
      "Epoch 27/80\n",
      "1158/1158 [==============================] - 16s 14ms/step - loss: 0.0029\n",
      "Epoch 28/80\n",
      "1158/1158 [==============================] - 16s 14ms/step - loss: 0.0035\n",
      "Epoch 29/80\n",
      "1158/1158 [==============================] - 15s 13ms/step - loss: 0.0034\n",
      "Epoch 30/80\n",
      "1158/1158 [==============================] - 15s 13ms/step - loss: 0.0031\n",
      "Epoch 31/80\n",
      "1158/1158 [==============================] - 16s 13ms/step - loss: 0.0029\n",
      "Epoch 32/80\n",
      "1158/1158 [==============================] - 16s 14ms/step - loss: 0.0029\n",
      "Epoch 33/80\n",
      "1158/1158 [==============================] - 16s 14ms/step - loss: 0.0031\n",
      "Epoch 34/80\n",
      "1158/1158 [==============================] - 16s 14ms/step - loss: 0.0027\n",
      "Epoch 35/80\n",
      "1158/1158 [==============================] - 16s 14ms/step - loss: 0.0029\n",
      "Epoch 36/80\n",
      "1158/1158 [==============================] - 17s 15ms/step - loss: 0.0030\n",
      "Epoch 37/80\n",
      "1158/1158 [==============================] - 17s 15ms/step - loss: 0.0028\n",
      "Epoch 38/80\n",
      "1158/1158 [==============================] - 17s 14ms/step - loss: 0.0027\n",
      "Epoch 39/80\n",
      "1158/1158 [==============================] - 18s 15ms/step - loss: 0.0031\n",
      "Epoch 40/80\n",
      "1158/1158 [==============================] - 20s 17ms/step - loss: 0.0026\n",
      "Epoch 41/80\n",
      "1158/1158 [==============================] - 17s 14ms/step - loss: 0.0029\n",
      "Epoch 42/80\n",
      "1158/1158 [==============================] - 17s 14ms/step - loss: 0.0026\n",
      "Epoch 43/80\n",
      "1158/1158 [==============================] - 16s 14ms/step - loss: 0.0030\n",
      "Epoch 44/80\n",
      "1158/1158 [==============================] - 18s 15ms/step - loss: 0.0024\n",
      "Epoch 45/80\n",
      "1158/1158 [==============================] - 17s 15ms/step - loss: 0.0028\n",
      "Epoch 46/80\n",
      "1158/1158 [==============================] - 17s 15ms/step - loss: 0.0026\n",
      "Epoch 47/80\n",
      "1158/1158 [==============================] - 16s 14ms/step - loss: 0.0024\n",
      "Epoch 48/80\n",
      "1158/1158 [==============================] - 16s 14ms/step - loss: 0.0024\n",
      "Epoch 49/80\n",
      "1158/1158 [==============================] - 16s 14ms/step - loss: 0.0028\n",
      "Epoch 50/80\n",
      "1158/1158 [==============================] - 17s 15ms/step - loss: 0.0024\n",
      "Epoch 51/80\n",
      "1158/1158 [==============================] - 18s 15ms/step - loss: 0.0025\n",
      "Epoch 52/80\n",
      "1158/1158 [==============================] - 18s 16ms/step - loss: 0.0022\n",
      "Epoch 53/80\n",
      "1158/1158 [==============================] - 18s 15ms/step - loss: 0.0024\n",
      "Epoch 54/80\n",
      "1158/1158 [==============================] - 17s 15ms/step - loss: 0.0022\n",
      "Epoch 55/80\n",
      "1158/1158 [==============================] - 16s 14ms/step - loss: 0.0022\n",
      "Epoch 56/80\n",
      "1158/1158 [==============================] - 16s 14ms/step - loss: 0.0023\n",
      "Epoch 57/80\n",
      "1158/1158 [==============================] - 15s 13ms/step - loss: 0.0022\n",
      "Epoch 58/80\n",
      "1158/1158 [==============================] - 18s 15ms/step - loss: 0.0022\n",
      "Epoch 59/80\n",
      "1158/1158 [==============================] - 16s 14ms/step - loss: 0.0022\n",
      "Epoch 60/80\n",
      "1158/1158 [==============================] - 15s 13ms/step - loss: 0.0021\n",
      "Epoch 61/80\n",
      "1158/1158 [==============================] - 15s 13ms/step - loss: 0.0021\n",
      "Epoch 62/80\n",
      "1158/1158 [==============================] - 15s 13ms/step - loss: 0.0020\n",
      "Epoch 63/80\n",
      "1158/1158 [==============================] - 15s 13ms/step - loss: 0.0021\n",
      "Epoch 64/80\n",
      "1158/1158 [==============================] - 15s 13ms/step - loss: 0.0020\n",
      "Epoch 65/80\n",
      "1158/1158 [==============================] - 15s 13ms/step - loss: 0.0021\n",
      "Epoch 66/80\n",
      "1158/1158 [==============================] - 15s 13ms/step - loss: 0.0020\n",
      "Epoch 67/80\n",
      "1158/1158 [==============================] - 15s 13ms/step - loss: 0.0018\n",
      "Epoch 68/80\n",
      "1158/1158 [==============================] - 15s 13ms/step - loss: 0.0020\n",
      "Epoch 69/80\n",
      "1158/1158 [==============================] - 15s 13ms/step - loss: 0.0021\n",
      "Epoch 70/80\n",
      "1158/1158 [==============================] - 15s 13ms/step - loss: 0.0018\n",
      "Epoch 71/80\n",
      "1158/1158 [==============================] - 15s 13ms/step - loss: 0.0018\n",
      "Epoch 72/80\n",
      "1158/1158 [==============================] - 15s 13ms/step - loss: 0.0018\n",
      "Epoch 73/80\n",
      "1158/1158 [==============================] - 15s 13ms/step - loss: 0.0021\n",
      "Epoch 74/80\n",
      "1158/1158 [==============================] - 15s 13ms/step - loss: 0.0019\n",
      "Epoch 75/80\n",
      "1158/1158 [==============================] - 15s 13ms/step - loss: 0.0019\n",
      "Epoch 76/80\n",
      "1158/1158 [==============================] - 16s 14ms/step - loss: 0.0017\n",
      "Epoch 77/80\n",
      "1158/1158 [==============================] - 15s 13ms/step - loss: 0.0021\n",
      "Epoch 78/80\n",
      "1158/1158 [==============================] - 15s 13ms/step - loss: 0.0019\n",
      "Epoch 79/80\n",
      "1158/1158 [==============================] - 15s 13ms/step - loss: 0.0018\n",
      "Epoch 80/80\n",
      "1158/1158 [==============================] - 15s 13ms/step - loss: 0.0018\n"
     ]
    },
    {
     "data": {
      "text/plain": [
       "<keras.callbacks.History at 0x2cb62033d68>"
      ]
     },
     "execution_count": 22,
     "metadata": {},
     "output_type": "execute_result"
    }
   ],
   "source": [
    "model.fit(X_train, y_train, epochs = 80, batch_size = 32)"
   ]
  },
  {
   "cell_type": "markdown",
   "metadata": {},
   "source": [
    "Making Predictions"
   ]
  },
  {
   "cell_type": "markdown",
   "metadata": {},
   "source": [
    "Getting test data"
   ]
  },
  {
   "cell_type": "code",
   "execution_count": 23,
   "metadata": {},
   "outputs": [],
   "source": [
    "test = pd.read_csv('Google_Stock_Price_Test.csv')\n",
    "real_stock_price = test.iloc[:, 1:2].values"
   ]
  },
  {
   "cell_type": "markdown",
   "metadata": {},
   "source": [
    "Getting Predicted Stock Price for Jan 2017"
   ]
  },
  {
   "cell_type": "markdown",
   "metadata": {},
   "source": [
    "Concatenating Training and Test data"
   ]
  },
  {
   "cell_type": "code",
   "execution_count": 24,
   "metadata": {},
   "outputs": [],
   "source": [
    "dataset_total = pd.concat((data['Open'], test['Open']), axis = 0)"
   ]
  },
  {
   "cell_type": "code",
   "execution_count": 25,
   "metadata": {},
   "outputs": [],
   "source": [
    "inputs = dataset_total[len(dataset_total) - len(test) - 100:].values"
   ]
  },
  {
   "cell_type": "code",
   "execution_count": 26,
   "metadata": {},
   "outputs": [],
   "source": [
    "inputs = inputs.reshape(-1,1)"
   ]
  },
  {
   "cell_type": "code",
   "execution_count": 27,
   "metadata": {},
   "outputs": [],
   "source": [
    "inputs = sc.transform(inputs)"
   ]
  },
  {
   "cell_type": "code",
   "execution_count": 28,
   "metadata": {},
   "outputs": [],
   "source": [
    "X_test = []"
   ]
  },
  {
   "cell_type": "code",
   "execution_count": 29,
   "metadata": {},
   "outputs": [],
   "source": [
    "for i in range(100, 120):\n",
    "    X_test.append(inputs[i-100:i, 0])"
   ]
  },
  {
   "cell_type": "code",
   "execution_count": 30,
   "metadata": {},
   "outputs": [],
   "source": [
    "X_test = np.array(X_test)"
   ]
  },
  {
   "cell_type": "code",
   "execution_count": 31,
   "metadata": {},
   "outputs": [],
   "source": [
    "X_test = np.reshape(X_test, (X_test.shape[0], X_test.shape[1], 1))"
   ]
  },
  {
   "cell_type": "code",
   "execution_count": 33,
   "metadata": {},
   "outputs": [],
   "source": [
    "predicted_stock_price = model.predict(X_test)"
   ]
  },
  {
   "cell_type": "code",
   "execution_count": 34,
   "metadata": {},
   "outputs": [],
   "source": [
    "predicted_stock_price = sc.inverse_transform(predicted_stock_price)"
   ]
  },
  {
   "cell_type": "markdown",
   "metadata": {},
   "source": [
    "Visualization of Real and Predicted Stock Trends"
   ]
  },
  {
   "cell_type": "code",
   "execution_count": 35,
   "metadata": {},
   "outputs": [
    {
     "data": {
      "image/png": "[encoded data removed]",
      "text/plain": [
       "<matplotlib.figure.Figure at 0x2cb6561d978>"
      ]
     },
     "metadata": {},
     "output_type": "display_data"
    }
   ],
   "source": [
    "plt.plot(real_stock_price, color = 'red', label = 'Real Google Stock Price')\n",
    "plt.plot(predicted_stock_price, color = 'blue', label = 'Predicted Google Stock Price')\n",
    "plt.title('Google Stock Price Prediction')\n",
    "plt.xlabel('Time')\n",
    "plt.ylabel('Google Stock Price')\n",
    "plt.legend()\n",
    "plt.show()\n"
   ]
  },
  {
   "cell_type": "code",
   "execution_count": null,
   "metadata": {},
   "outputs": [],
   "source": []
  }
 ],
 "metadata": {
  "kernelspec": {
   "display_name": "Python 3",
   "language": "python",
   "name": "python3"
  },
  "language_info": {
   "codemirror_mode": {
    "name": "ipython",
    "version": 3
   },
   "file_extension": ".py",
   "mimetype": "text/x-python",
   "name": "python",
   "nbconvert_exporter": "python",
   "pygments_lexer": "ipython3",
   "version": "3.5.4"
  }
 },
 "nbformat": 4,
 "nbformat_minor": 2
}
